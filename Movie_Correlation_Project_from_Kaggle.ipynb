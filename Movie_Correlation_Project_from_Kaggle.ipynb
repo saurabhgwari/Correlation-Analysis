{
  "nbformat": 4,
  "nbformat_minor": 0,
  "metadata": {
    "colab": {
      "name": "Movie Correlation Project from Kaggle.ipynb",
      "provenance": [],
      "collapsed_sections": [
        "pT3dQdzY3l5-",
        "5cEoolt53kjj"
      ],
      "toc_visible": true,
      "authorship_tag": "ABX9TyOOcamtmCKil8tbee3qXUvb",
      "include_colab_link": true
    },
    "kernelspec": {
      "name": "python3",
      "display_name": "Python 3"
    },
    "language_info": {
      "name": "python"
    }
  },
  "cells": [
    {
      "cell_type": "markdown",
      "metadata": {
        "id": "view-in-github",
        "colab_type": "text"
      },
      "source": [
        "<a href=\"https://colab.research.google.com/github/saurabhgwari/Correlation-Analysis/blob/main/Movie_Correlation_Project_from_Kaggle.ipynb\" target=\"_parent\"><img src=\"https://colab.research.google.com/assets/colab-badge.svg\" alt=\"Open In Colab\"/></a>"
      ]
    },
    {
      "cell_type": "markdown",
      "metadata": {
        "id": "pT3dQdzY3l5-"
      },
      "source": [
        "# Import Libraries & Upload data"
      ]
    },
    {
      "cell_type": "code",
      "metadata": {
        "id": "_qIIUegp1sC_"
      },
      "source": [
        "import pandas as pd\n",
        "import io\n",
        "import numpy as np\n",
        "import seaborn as sns\n",
        "\n",
        "import matplotlib\n",
        "import matplotlib.pyplot as plt\n",
        "plt.style.use('ggplot')\n",
        "from matplotlib.pyplot import figure\n",
        "\n",
        "%matplotlib inline\n",
        "matplotlib.rcParams['figure.figsize'] = (12,8)  # Adjusts the config of plots we will create"
      ],
      "execution_count": 127,
      "outputs": []
    },
    {
      "cell_type": "markdown",
      "metadata": {
        "id": "a8x5pEiyNoid"
      },
      "source": [
        "for local file : "
      ]
    },
    {
      "cell_type": "code",
      "metadata": {
        "id": "mT2ibs5-Ndb4"
      },
      "source": [
        "#from google.colab import files\n",
        "#uploaded = files.upload()\n",
        "\n",
        "#df = pd.read_csv(io.BytesIO(uploaded['movies.csv']), encoding='latin-1')"
      ],
      "execution_count": 128,
      "outputs": []
    },
    {
      "cell_type": "markdown",
      "metadata": {
        "id": "ayLHZGY3NqBt"
      },
      "source": [
        "For github csv file "
      ]
    },
    {
      "cell_type": "code",
      "metadata": {
        "colab": {
          "base_uri": "https://localhost:8080/",
          "height": 289
        },
        "id": "rJQLYjsQNuSC",
        "outputId": "f93d36d0-3095-4533-fab6-d8278e7709ac"
      },
      "source": [
        "df = pd.read_csv('https://raw.githubusercontent.com/saurabhgwari/Correlation-Analysis/main/movies.csv', encoding='latin-1')\n",
        "\n",
        "df.head()"
      ],
      "execution_count": 129,
      "outputs": [
        {
          "output_type": "execute_result",
          "data": {
            "text/html": [
              "<div>\n",
              "<style scoped>\n",
              "    .dataframe tbody tr th:only-of-type {\n",
              "        vertical-align: middle;\n",
              "    }\n",
              "\n",
              "    .dataframe tbody tr th {\n",
              "        vertical-align: top;\n",
              "    }\n",
              "\n",
              "    .dataframe thead th {\n",
              "        text-align: right;\n",
              "    }\n",
              "</style>\n",
              "<table border=\"1\" class=\"dataframe\">\n",
              "  <thead>\n",
              "    <tr style=\"text-align: right;\">\n",
              "      <th></th>\n",
              "      <th>budget</th>\n",
              "      <th>company</th>\n",
              "      <th>country</th>\n",
              "      <th>director</th>\n",
              "      <th>genre</th>\n",
              "      <th>gross</th>\n",
              "      <th>name</th>\n",
              "      <th>rating</th>\n",
              "      <th>released</th>\n",
              "      <th>runtime</th>\n",
              "      <th>score</th>\n",
              "      <th>star</th>\n",
              "      <th>votes</th>\n",
              "      <th>writer</th>\n",
              "      <th>year</th>\n",
              "    </tr>\n",
              "  </thead>\n",
              "  <tbody>\n",
              "    <tr>\n",
              "      <th>0</th>\n",
              "      <td>8000000.0</td>\n",
              "      <td>Columbia Pictures Corporation</td>\n",
              "      <td>USA</td>\n",
              "      <td>Rob Reiner</td>\n",
              "      <td>Adventure</td>\n",
              "      <td>52287414.0</td>\n",
              "      <td>Stand by Me</td>\n",
              "      <td>R</td>\n",
              "      <td>1986-08-22</td>\n",
              "      <td>89</td>\n",
              "      <td>8.1</td>\n",
              "      <td>Wil Wheaton</td>\n",
              "      <td>299174</td>\n",
              "      <td>Stephen King</td>\n",
              "      <td>1986</td>\n",
              "    </tr>\n",
              "    <tr>\n",
              "      <th>1</th>\n",
              "      <td>6000000.0</td>\n",
              "      <td>Paramount Pictures</td>\n",
              "      <td>USA</td>\n",
              "      <td>John Hughes</td>\n",
              "      <td>Comedy</td>\n",
              "      <td>70136369.0</td>\n",
              "      <td>Ferris Bueller's Day Off</td>\n",
              "      <td>PG-13</td>\n",
              "      <td>1986-06-11</td>\n",
              "      <td>103</td>\n",
              "      <td>7.8</td>\n",
              "      <td>Matthew Broderick</td>\n",
              "      <td>264740</td>\n",
              "      <td>John Hughes</td>\n",
              "      <td>1986</td>\n",
              "    </tr>\n",
              "    <tr>\n",
              "      <th>2</th>\n",
              "      <td>15000000.0</td>\n",
              "      <td>Paramount Pictures</td>\n",
              "      <td>USA</td>\n",
              "      <td>Tony Scott</td>\n",
              "      <td>Action</td>\n",
              "      <td>179800601.0</td>\n",
              "      <td>Top Gun</td>\n",
              "      <td>PG</td>\n",
              "      <td>1986-05-16</td>\n",
              "      <td>110</td>\n",
              "      <td>6.9</td>\n",
              "      <td>Tom Cruise</td>\n",
              "      <td>236909</td>\n",
              "      <td>Jim Cash</td>\n",
              "      <td>1986</td>\n",
              "    </tr>\n",
              "    <tr>\n",
              "      <th>3</th>\n",
              "      <td>18500000.0</td>\n",
              "      <td>Twentieth Century Fox Film Corporation</td>\n",
              "      <td>USA</td>\n",
              "      <td>James Cameron</td>\n",
              "      <td>Action</td>\n",
              "      <td>85160248.0</td>\n",
              "      <td>Aliens</td>\n",
              "      <td>R</td>\n",
              "      <td>1986-07-18</td>\n",
              "      <td>137</td>\n",
              "      <td>8.4</td>\n",
              "      <td>Sigourney Weaver</td>\n",
              "      <td>540152</td>\n",
              "      <td>James Cameron</td>\n",
              "      <td>1986</td>\n",
              "    </tr>\n",
              "    <tr>\n",
              "      <th>4</th>\n",
              "      <td>9000000.0</td>\n",
              "      <td>Walt Disney Pictures</td>\n",
              "      <td>USA</td>\n",
              "      <td>Randal Kleiser</td>\n",
              "      <td>Adventure</td>\n",
              "      <td>18564613.0</td>\n",
              "      <td>Flight of the Navigator</td>\n",
              "      <td>PG</td>\n",
              "      <td>1986-08-01</td>\n",
              "      <td>90</td>\n",
              "      <td>6.9</td>\n",
              "      <td>Joey Cramer</td>\n",
              "      <td>36636</td>\n",
              "      <td>Mark H. Baker</td>\n",
              "      <td>1986</td>\n",
              "    </tr>\n",
              "  </tbody>\n",
              "</table>\n",
              "</div>"
            ],
            "text/plain": [
              "       budget                                 company  ...         writer  year\n",
              "0   8000000.0           Columbia Pictures Corporation  ...   Stephen King  1986\n",
              "1   6000000.0                      Paramount Pictures  ...    John Hughes  1986\n",
              "2  15000000.0                      Paramount Pictures  ...       Jim Cash  1986\n",
              "3  18500000.0  Twentieth Century Fox Film Corporation  ...  James Cameron  1986\n",
              "4   9000000.0                    Walt Disney Pictures  ...  Mark H. Baker  1986\n",
              "\n",
              "[5 rows x 15 columns]"
            ]
          },
          "metadata": {
            "tags": []
          },
          "execution_count": 129
        }
      ]
    },
    {
      "cell_type": "markdown",
      "metadata": {
        "id": "5cEoolt53kjj"
      },
      "source": [
        "# Cleaning & formating data"
      ]
    },
    {
      "cell_type": "code",
      "metadata": {
        "colab": {
          "base_uri": "https://localhost:8080/",
          "height": 289
        },
        "id": "95SdIzGN4Fr9",
        "outputId": "62cfd664-c4d4-435a-aa74-967fa351a94f"
      },
      "source": [
        "df.head()"
      ],
      "execution_count": 130,
      "outputs": [
        {
          "output_type": "execute_result",
          "data": {
            "text/html": [
              "<div>\n",
              "<style scoped>\n",
              "    .dataframe tbody tr th:only-of-type {\n",
              "        vertical-align: middle;\n",
              "    }\n",
              "\n",
              "    .dataframe tbody tr th {\n",
              "        vertical-align: top;\n",
              "    }\n",
              "\n",
              "    .dataframe thead th {\n",
              "        text-align: right;\n",
              "    }\n",
              "</style>\n",
              "<table border=\"1\" class=\"dataframe\">\n",
              "  <thead>\n",
              "    <tr style=\"text-align: right;\">\n",
              "      <th></th>\n",
              "      <th>budget</th>\n",
              "      <th>company</th>\n",
              "      <th>country</th>\n",
              "      <th>director</th>\n",
              "      <th>genre</th>\n",
              "      <th>gross</th>\n",
              "      <th>name</th>\n",
              "      <th>rating</th>\n",
              "      <th>released</th>\n",
              "      <th>runtime</th>\n",
              "      <th>score</th>\n",
              "      <th>star</th>\n",
              "      <th>votes</th>\n",
              "      <th>writer</th>\n",
              "      <th>year</th>\n",
              "    </tr>\n",
              "  </thead>\n",
              "  <tbody>\n",
              "    <tr>\n",
              "      <th>0</th>\n",
              "      <td>8000000.0</td>\n",
              "      <td>Columbia Pictures Corporation</td>\n",
              "      <td>USA</td>\n",
              "      <td>Rob Reiner</td>\n",
              "      <td>Adventure</td>\n",
              "      <td>52287414.0</td>\n",
              "      <td>Stand by Me</td>\n",
              "      <td>R</td>\n",
              "      <td>1986-08-22</td>\n",
              "      <td>89</td>\n",
              "      <td>8.1</td>\n",
              "      <td>Wil Wheaton</td>\n",
              "      <td>299174</td>\n",
              "      <td>Stephen King</td>\n",
              "      <td>1986</td>\n",
              "    </tr>\n",
              "    <tr>\n",
              "      <th>1</th>\n",
              "      <td>6000000.0</td>\n",
              "      <td>Paramount Pictures</td>\n",
              "      <td>USA</td>\n",
              "      <td>John Hughes</td>\n",
              "      <td>Comedy</td>\n",
              "      <td>70136369.0</td>\n",
              "      <td>Ferris Bueller's Day Off</td>\n",
              "      <td>PG-13</td>\n",
              "      <td>1986-06-11</td>\n",
              "      <td>103</td>\n",
              "      <td>7.8</td>\n",
              "      <td>Matthew Broderick</td>\n",
              "      <td>264740</td>\n",
              "      <td>John Hughes</td>\n",
              "      <td>1986</td>\n",
              "    </tr>\n",
              "    <tr>\n",
              "      <th>2</th>\n",
              "      <td>15000000.0</td>\n",
              "      <td>Paramount Pictures</td>\n",
              "      <td>USA</td>\n",
              "      <td>Tony Scott</td>\n",
              "      <td>Action</td>\n",
              "      <td>179800601.0</td>\n",
              "      <td>Top Gun</td>\n",
              "      <td>PG</td>\n",
              "      <td>1986-05-16</td>\n",
              "      <td>110</td>\n",
              "      <td>6.9</td>\n",
              "      <td>Tom Cruise</td>\n",
              "      <td>236909</td>\n",
              "      <td>Jim Cash</td>\n",
              "      <td>1986</td>\n",
              "    </tr>\n",
              "    <tr>\n",
              "      <th>3</th>\n",
              "      <td>18500000.0</td>\n",
              "      <td>Twentieth Century Fox Film Corporation</td>\n",
              "      <td>USA</td>\n",
              "      <td>James Cameron</td>\n",
              "      <td>Action</td>\n",
              "      <td>85160248.0</td>\n",
              "      <td>Aliens</td>\n",
              "      <td>R</td>\n",
              "      <td>1986-07-18</td>\n",
              "      <td>137</td>\n",
              "      <td>8.4</td>\n",
              "      <td>Sigourney Weaver</td>\n",
              "      <td>540152</td>\n",
              "      <td>James Cameron</td>\n",
              "      <td>1986</td>\n",
              "    </tr>\n",
              "    <tr>\n",
              "      <th>4</th>\n",
              "      <td>9000000.0</td>\n",
              "      <td>Walt Disney Pictures</td>\n",
              "      <td>USA</td>\n",
              "      <td>Randal Kleiser</td>\n",
              "      <td>Adventure</td>\n",
              "      <td>18564613.0</td>\n",
              "      <td>Flight of the Navigator</td>\n",
              "      <td>PG</td>\n",
              "      <td>1986-08-01</td>\n",
              "      <td>90</td>\n",
              "      <td>6.9</td>\n",
              "      <td>Joey Cramer</td>\n",
              "      <td>36636</td>\n",
              "      <td>Mark H. Baker</td>\n",
              "      <td>1986</td>\n",
              "    </tr>\n",
              "  </tbody>\n",
              "</table>\n",
              "</div>"
            ],
            "text/plain": [
              "       budget                                 company  ...         writer  year\n",
              "0   8000000.0           Columbia Pictures Corporation  ...   Stephen King  1986\n",
              "1   6000000.0                      Paramount Pictures  ...    John Hughes  1986\n",
              "2  15000000.0                      Paramount Pictures  ...       Jim Cash  1986\n",
              "3  18500000.0  Twentieth Century Fox Film Corporation  ...  James Cameron  1986\n",
              "4   9000000.0                    Walt Disney Pictures  ...  Mark H. Baker  1986\n",
              "\n",
              "[5 rows x 15 columns]"
            ]
          },
          "metadata": {
            "tags": []
          },
          "execution_count": 130
        }
      ]
    },
    {
      "cell_type": "code",
      "metadata": {
        "colab": {
          "base_uri": "https://localhost:8080/"
        },
        "id": "MTM5r7LN4Sz5",
        "outputId": "38dfe2ec-234b-4e2d-d908-ad8efb76c778"
      },
      "source": [
        "# Loop to check if there is any missing data :\n",
        "\n",
        "for col in df.columns:\n",
        "  pct_missing = np.mean(df[col].isnull())\n",
        "  print('{} - {}%'.format(col,pct_missing))"
      ],
      "execution_count": 131,
      "outputs": [
        {
          "output_type": "stream",
          "text": [
            "budget - 0.0%\n",
            "company - 0.0%\n",
            "country - 0.0%\n",
            "director - 0.0%\n",
            "genre - 0.0%\n",
            "gross - 0.0%\n",
            "name - 0.0%\n",
            "rating - 0.0%\n",
            "released - 0.0%\n",
            "runtime - 0.0%\n",
            "score - 0.0%\n",
            "star - 0.0%\n",
            "votes - 0.0%\n",
            "writer - 0.0%\n",
            "year - 0.0%\n"
          ],
          "name": "stdout"
        }
      ]
    },
    {
      "cell_type": "code",
      "metadata": {
        "colab": {
          "base_uri": "https://localhost:8080/"
        },
        "id": "vZ5wVd6M46Px",
        "outputId": "6c802ba9-73ed-4042-fd85-deb7e4a94fe5"
      },
      "source": [
        "# Data Types for our columns \n",
        "\n",
        "df.dtypes"
      ],
      "execution_count": 132,
      "outputs": [
        {
          "output_type": "execute_result",
          "data": {
            "text/plain": [
              "budget      float64\n",
              "company      object\n",
              "country      object\n",
              "director     object\n",
              "genre        object\n",
              "gross       float64\n",
              "name         object\n",
              "rating       object\n",
              "released     object\n",
              "runtime       int64\n",
              "score       float64\n",
              "star         object\n",
              "votes         int64\n",
              "writer       object\n",
              "year          int64\n",
              "dtype: object"
            ]
          },
          "metadata": {
            "tags": []
          },
          "execution_count": 132
        }
      ]
    },
    {
      "cell_type": "code",
      "metadata": {
        "id": "PbRuIJit5Zsh"
      },
      "source": [
        "# 'budget' & 'gross' columns are showing as float but we don't want decimal values so let's change to int\n",
        "\n",
        "df['budget'] = df['budget'].astype('int64')\n",
        "df['gross'] = df['gross'].astype('int64')"
      ],
      "execution_count": 133,
      "outputs": []
    },
    {
      "cell_type": "code",
      "metadata": {
        "colab": {
          "base_uri": "https://localhost:8080/",
          "height": 289
        },
        "id": "iTKviNzl7MlO",
        "outputId": "b45f911f-9b21-418f-9718-ae6919ca6c5e"
      },
      "source": [
        "# 'year' & 'released' are not same for some rows, let's extract year from 'released' column and drop 'year'\n",
        "\n",
        "df['year_correct'] = df['released'].astype('str').str[:4]\n",
        "df.drop(columns='year', inplace=True)\n",
        "df.head()"
      ],
      "execution_count": 134,
      "outputs": [
        {
          "output_type": "execute_result",
          "data": {
            "text/html": [
              "<div>\n",
              "<style scoped>\n",
              "    .dataframe tbody tr th:only-of-type {\n",
              "        vertical-align: middle;\n",
              "    }\n",
              "\n",
              "    .dataframe tbody tr th {\n",
              "        vertical-align: top;\n",
              "    }\n",
              "\n",
              "    .dataframe thead th {\n",
              "        text-align: right;\n",
              "    }\n",
              "</style>\n",
              "<table border=\"1\" class=\"dataframe\">\n",
              "  <thead>\n",
              "    <tr style=\"text-align: right;\">\n",
              "      <th></th>\n",
              "      <th>budget</th>\n",
              "      <th>company</th>\n",
              "      <th>country</th>\n",
              "      <th>director</th>\n",
              "      <th>genre</th>\n",
              "      <th>gross</th>\n",
              "      <th>name</th>\n",
              "      <th>rating</th>\n",
              "      <th>released</th>\n",
              "      <th>runtime</th>\n",
              "      <th>score</th>\n",
              "      <th>star</th>\n",
              "      <th>votes</th>\n",
              "      <th>writer</th>\n",
              "      <th>year_correct</th>\n",
              "    </tr>\n",
              "  </thead>\n",
              "  <tbody>\n",
              "    <tr>\n",
              "      <th>0</th>\n",
              "      <td>8000000</td>\n",
              "      <td>Columbia Pictures Corporation</td>\n",
              "      <td>USA</td>\n",
              "      <td>Rob Reiner</td>\n",
              "      <td>Adventure</td>\n",
              "      <td>52287414</td>\n",
              "      <td>Stand by Me</td>\n",
              "      <td>R</td>\n",
              "      <td>1986-08-22</td>\n",
              "      <td>89</td>\n",
              "      <td>8.1</td>\n",
              "      <td>Wil Wheaton</td>\n",
              "      <td>299174</td>\n",
              "      <td>Stephen King</td>\n",
              "      <td>1986</td>\n",
              "    </tr>\n",
              "    <tr>\n",
              "      <th>1</th>\n",
              "      <td>6000000</td>\n",
              "      <td>Paramount Pictures</td>\n",
              "      <td>USA</td>\n",
              "      <td>John Hughes</td>\n",
              "      <td>Comedy</td>\n",
              "      <td>70136369</td>\n",
              "      <td>Ferris Bueller's Day Off</td>\n",
              "      <td>PG-13</td>\n",
              "      <td>1986-06-11</td>\n",
              "      <td>103</td>\n",
              "      <td>7.8</td>\n",
              "      <td>Matthew Broderick</td>\n",
              "      <td>264740</td>\n",
              "      <td>John Hughes</td>\n",
              "      <td>1986</td>\n",
              "    </tr>\n",
              "    <tr>\n",
              "      <th>2</th>\n",
              "      <td>15000000</td>\n",
              "      <td>Paramount Pictures</td>\n",
              "      <td>USA</td>\n",
              "      <td>Tony Scott</td>\n",
              "      <td>Action</td>\n",
              "      <td>179800601</td>\n",
              "      <td>Top Gun</td>\n",
              "      <td>PG</td>\n",
              "      <td>1986-05-16</td>\n",
              "      <td>110</td>\n",
              "      <td>6.9</td>\n",
              "      <td>Tom Cruise</td>\n",
              "      <td>236909</td>\n",
              "      <td>Jim Cash</td>\n",
              "      <td>1986</td>\n",
              "    </tr>\n",
              "    <tr>\n",
              "      <th>3</th>\n",
              "      <td>18500000</td>\n",
              "      <td>Twentieth Century Fox Film Corporation</td>\n",
              "      <td>USA</td>\n",
              "      <td>James Cameron</td>\n",
              "      <td>Action</td>\n",
              "      <td>85160248</td>\n",
              "      <td>Aliens</td>\n",
              "      <td>R</td>\n",
              "      <td>1986-07-18</td>\n",
              "      <td>137</td>\n",
              "      <td>8.4</td>\n",
              "      <td>Sigourney Weaver</td>\n",
              "      <td>540152</td>\n",
              "      <td>James Cameron</td>\n",
              "      <td>1986</td>\n",
              "    </tr>\n",
              "    <tr>\n",
              "      <th>4</th>\n",
              "      <td>9000000</td>\n",
              "      <td>Walt Disney Pictures</td>\n",
              "      <td>USA</td>\n",
              "      <td>Randal Kleiser</td>\n",
              "      <td>Adventure</td>\n",
              "      <td>18564613</td>\n",
              "      <td>Flight of the Navigator</td>\n",
              "      <td>PG</td>\n",
              "      <td>1986-08-01</td>\n",
              "      <td>90</td>\n",
              "      <td>6.9</td>\n",
              "      <td>Joey Cramer</td>\n",
              "      <td>36636</td>\n",
              "      <td>Mark H. Baker</td>\n",
              "      <td>1986</td>\n",
              "    </tr>\n",
              "  </tbody>\n",
              "</table>\n",
              "</div>"
            ],
            "text/plain": [
              "     budget                                 company  ...         writer year_correct\n",
              "0   8000000           Columbia Pictures Corporation  ...   Stephen King         1986\n",
              "1   6000000                      Paramount Pictures  ...    John Hughes         1986\n",
              "2  15000000                      Paramount Pictures  ...       Jim Cash         1986\n",
              "3  18500000  Twentieth Century Fox Film Corporation  ...  James Cameron         1986\n",
              "4   9000000                    Walt Disney Pictures  ...  Mark H. Baker         1986\n",
              "\n",
              "[5 rows x 15 columns]"
            ]
          },
          "metadata": {
            "tags": []
          },
          "execution_count": 134
        }
      ]
    },
    {
      "cell_type": "code",
      "metadata": {
        "id": "gv9sYUKj7RD5"
      },
      "source": [
        "# incase we want to see all the data\n",
        "\n",
        "pd.set_option('display.max_rows', None)"
      ],
      "execution_count": 135,
      "outputs": []
    },
    {
      "cell_type": "code",
      "metadata": {
        "colab": {
          "base_uri": "https://localhost:8080/"
        },
        "id": "qKyMKQpb9Sw4",
        "outputId": "666074f5-dcf1-4b9e-86f2-da325da90507"
      },
      "source": [
        "# Drop any duplicates \n",
        "\n",
        "df.shape"
      ],
      "execution_count": 136,
      "outputs": [
        {
          "output_type": "execute_result",
          "data": {
            "text/plain": [
              "(6820, 15)"
            ]
          },
          "metadata": {
            "tags": []
          },
          "execution_count": 136
        }
      ]
    },
    {
      "cell_type": "code",
      "metadata": {
        "colab": {
          "base_uri": "https://localhost:8080/"
        },
        "id": "lHnkmkKk9q0P",
        "outputId": "8cb9879c-8cbb-4f64-e66d-b59125db8a41"
      },
      "source": [
        "# Get entire unique company list \n",
        "\n",
        "df['company'].drop_duplicates().sort_values(ascending=False).head()"
      ],
      "execution_count": 137,
      "outputs": [
        {
          "output_type": "execute_result",
          "data": {
            "text/plain": [
              "5288                    micro_scope\n",
              "3486                       i5 Films\n",
              "6084                           erbp\n",
              "3225                 double A Films\n",
              "2707    Zucker Brothers Productions\n",
              "Name: company, dtype: object"
            ]
          },
          "metadata": {
            "tags": []
          },
          "execution_count": 137
        }
      ]
    },
    {
      "cell_type": "code",
      "metadata": {
        "colab": {
          "base_uri": "https://localhost:8080/"
        },
        "id": "gwPU0NLk94nw",
        "outputId": "d3a8c3b7-9b9d-4a33-83dd-3a2c95fff1aa"
      },
      "source": [
        "# Get Top 10 companies by frequency\n",
        "\n",
        "df['company'].value_counts().sort_values(ascending=False).head(10)"
      ],
      "execution_count": 138,
      "outputs": [
        {
          "output_type": "execute_result",
          "data": {
            "text/plain": [
              "Universal Pictures                        302\n",
              "Warner Bros.                              294\n",
              "Paramount Pictures                        259\n",
              "Twentieth Century Fox Film Corporation    205\n",
              "New Line Cinema                           172\n",
              "Columbia Pictures Corporation             166\n",
              "Touchstone Pictures                       131\n",
              "Columbia Pictures                         108\n",
              "Walt Disney Pictures                      102\n",
              "Metro-Goldwyn-Mayer (MGM)                 101\n",
              "Name: company, dtype: int64"
            ]
          },
          "metadata": {
            "tags": []
          },
          "execution_count": 138
        }
      ]
    },
    {
      "cell_type": "code",
      "metadata": {
        "id": "NasM1UR3HA1_"
      },
      "source": [
        "# Order entire dataset by 'Gross' column\n",
        "\n",
        "df = df.sort_values(by=['gross'], ascending=False)"
      ],
      "execution_count": 139,
      "outputs": []
    },
    {
      "cell_type": "markdown",
      "metadata": {
        "id": "AiQKzEli_e70"
      },
      "source": [
        "# Correlation Analysis"
      ]
    },
    {
      "cell_type": "code",
      "metadata": {
        "colab": {
          "base_uri": "https://localhost:8080/",
          "height": 517
        },
        "id": "rACTqqqp_gPb",
        "outputId": "7204daa0-4919-4bf4-88dc-a4d64438ff3b"
      },
      "source": [
        "# Scatter plot for Budget vs Gross\n",
        "\n",
        "plt.scatter(x=df['budget'], y=df['gross'] )\n",
        "plt.title('Budget vs Gross earnings')\n",
        "plt.xlabel('Budget Earnings')\n",
        "plt.ylabel('Gross Earnings')\n",
        "plt.show()"
      ],
      "execution_count": 140,
      "outputs": [
        {
          "output_type": "display_data",
          "data": {
            "image/png": "[encoded data removed]",
            "text/plain": [
              "<Figure size 864x576 with 1 Axes>"
            ]
          },
          "metadata": {
            "tags": [],
            "needs_background": "light"
          }
        }
      ]
    },
    {
      "cell_type": "code",
      "metadata": {
        "colab": {
          "base_uri": "https://localhost:8080/",
          "height": 359
        },
        "id": "1TI0TiTBADcS",
        "outputId": "8118e6bc-9bdf-40cb-d9be-a9619cb80b50"
      },
      "source": [
        "# Quick check the above scatter plot \n",
        "\n",
        "df[['name','company','budget','gross']].sort_values(by='gross', ascending=False).head(10)"
      ],
      "execution_count": 141,
      "outputs": [
        {
          "output_type": "execute_result",
          "data": {
            "text/html": [
              "<div>\n",
              "<style scoped>\n",
              "    .dataframe tbody tr th:only-of-type {\n",
              "        vertical-align: middle;\n",
              "    }\n",
              "\n",
              "    .dataframe tbody tr th {\n",
              "        vertical-align: top;\n",
              "    }\n",
              "\n",
              "    .dataframe thead th {\n",
              "        text-align: right;\n",
              "    }\n",
              "</style>\n",
              "<table border=\"1\" class=\"dataframe\">\n",
              "  <thead>\n",
              "    <tr style=\"text-align: right;\">\n",
              "      <th></th>\n",
              "      <th>name</th>\n",
              "      <th>company</th>\n",
              "      <th>budget</th>\n",
              "      <th>gross</th>\n",
              "    </tr>\n",
              "  </thead>\n",
              "  <tbody>\n",
              "    <tr>\n",
              "      <th>6380</th>\n",
              "      <td>Star Wars: The Force Awakens</td>\n",
              "      <td>Lucasfilm</td>\n",
              "      <td>245000000</td>\n",
              "      <td>936662225</td>\n",
              "    </tr>\n",
              "    <tr>\n",
              "      <th>5061</th>\n",
              "      <td>Avatar</td>\n",
              "      <td>Twentieth Century Fox Film Corporation</td>\n",
              "      <td>237000000</td>\n",
              "      <td>760507625</td>\n",
              "    </tr>\n",
              "    <tr>\n",
              "      <th>2420</th>\n",
              "      <td>Titanic</td>\n",
              "      <td>Twentieth Century Fox Film Corporation</td>\n",
              "      <td>200000000</td>\n",
              "      <td>658672302</td>\n",
              "    </tr>\n",
              "    <tr>\n",
              "      <th>6391</th>\n",
              "      <td>Jurassic World</td>\n",
              "      <td>Universal Pictures</td>\n",
              "      <td>150000000</td>\n",
              "      <td>652270625</td>\n",
              "    </tr>\n",
              "    <tr>\n",
              "      <th>5723</th>\n",
              "      <td>The Avengers</td>\n",
              "      <td>Marvel Studios</td>\n",
              "      <td>220000000</td>\n",
              "      <td>623357910</td>\n",
              "    </tr>\n",
              "    <tr>\n",
              "      <th>4840</th>\n",
              "      <td>The Dark Knight</td>\n",
              "      <td>Warner Bros.</td>\n",
              "      <td>185000000</td>\n",
              "      <td>534858444</td>\n",
              "    </tr>\n",
              "    <tr>\n",
              "      <th>6614</th>\n",
              "      <td>Rogue One</td>\n",
              "      <td>Lucasfilm</td>\n",
              "      <td>200000000</td>\n",
              "      <td>532177324</td>\n",
              "    </tr>\n",
              "    <tr>\n",
              "      <th>6687</th>\n",
              "      <td>Finding Dory</td>\n",
              "      <td>Pixar Animation Studios</td>\n",
              "      <td>200000000</td>\n",
              "      <td>486295561</td>\n",
              "    </tr>\n",
              "    <tr>\n",
              "      <th>2870</th>\n",
              "      <td>Star Wars: Episode I - The Phantom Menace</td>\n",
              "      <td>Lucasfilm</td>\n",
              "      <td>115000000</td>\n",
              "      <td>474544677</td>\n",
              "    </tr>\n",
              "    <tr>\n",
              "      <th>6398</th>\n",
              "      <td>Avengers: Age of Ultron</td>\n",
              "      <td>Marvel Studios</td>\n",
              "      <td>250000000</td>\n",
              "      <td>459005868</td>\n",
              "    </tr>\n",
              "  </tbody>\n",
              "</table>\n",
              "</div>"
            ],
            "text/plain": [
              "                                           name  ...      gross\n",
              "6380               Star Wars: The Force Awakens  ...  936662225\n",
              "5061                                     Avatar  ...  760507625\n",
              "2420                                    Titanic  ...  658672302\n",
              "6391                             Jurassic World  ...  652270625\n",
              "5723                               The Avengers  ...  623357910\n",
              "4840                            The Dark Knight  ...  534858444\n",
              "6614                                  Rogue One  ...  532177324\n",
              "6687                               Finding Dory  ...  486295561\n",
              "2870  Star Wars: Episode I - The Phantom Menace  ...  474544677\n",
              "6398                    Avengers: Age of Ultron  ...  459005868\n",
              "\n",
              "[10 rows x 4 columns]"
            ]
          },
          "metadata": {
            "tags": []
          },
          "execution_count": 141
        }
      ]
    },
    {
      "cell_type": "code",
      "metadata": {
        "colab": {
          "base_uri": "https://localhost:8080/",
          "height": 528
        },
        "id": "YcOGohX5BN1y",
        "outputId": "cdeca8a7-5fd9-40b1-f84f-5f7ca58b84cc"
      },
      "source": [
        "# now let's make a regression plot (budget vs gross) using seaborn\n",
        "\n",
        "sns.regplot(x='budget', y='gross', data=df, \n",
        "            scatter_kws={\"color\":\"grey\"}, \n",
        "            line_kws={\"color\":\"blue\"})"
      ],
      "execution_count": 142,
      "outputs": [
        {
          "output_type": "execute_result",
          "data": {
            "text/plain": [
              "<matplotlib.axes._subplots.AxesSubplot at 0x7f5ea0bb45d0>"
            ]
          },
          "metadata": {
            "tags": []
          },
          "execution_count": 142
        },
        {
          "output_type": "display_data",
          "data": {
            "image/png": "[encoded data removed]",
            "text/plain": [
              "<Figure size 864x576 with 1 Axes>"
            ]
          },
          "metadata": {
            "tags": [],
            "needs_background": "light"
          }
        }
      ]
    },
    {
      "cell_type": "code",
      "metadata": {
        "colab": {
          "base_uri": "https://localhost:8080/",
          "height": 204
        },
        "id": "ymTHeC-NCFH2",
        "outputId": "484f6a32-342a-4b1e-f889-05650d680196"
      },
      "source": [
        "# Let's look at correlation matrix now, but this is for numeric features only\n",
        "\n",
        "df.corr(method=\"pearson\")       # pearson(default), kendall, spearman"
      ],
      "execution_count": 143,
      "outputs": [
        {
          "output_type": "execute_result",
          "data": {
            "text/html": [
              "<div>\n",
              "<style scoped>\n",
              "    .dataframe tbody tr th:only-of-type {\n",
              "        vertical-align: middle;\n",
              "    }\n",
              "\n",
              "    .dataframe tbody tr th {\n",
              "        vertical-align: top;\n",
              "    }\n",
              "\n",
              "    .dataframe thead th {\n",
              "        text-align: right;\n",
              "    }\n",
              "</style>\n",
              "<table border=\"1\" class=\"dataframe\">\n",
              "  <thead>\n",
              "    <tr style=\"text-align: right;\">\n",
              "      <th></th>\n",
              "      <th>budget</th>\n",
              "      <th>gross</th>\n",
              "      <th>runtime</th>\n",
              "      <th>score</th>\n",
              "      <th>votes</th>\n",
              "    </tr>\n",
              "  </thead>\n",
              "  <tbody>\n",
              "    <tr>\n",
              "      <th>budget</th>\n",
              "      <td>1.000000</td>\n",
              "      <td>0.712196</td>\n",
              "      <td>0.268226</td>\n",
              "      <td>0.042145</td>\n",
              "      <td>0.503924</td>\n",
              "    </tr>\n",
              "    <tr>\n",
              "      <th>gross</th>\n",
              "      <td>0.712196</td>\n",
              "      <td>1.000000</td>\n",
              "      <td>0.224579</td>\n",
              "      <td>0.165693</td>\n",
              "      <td>0.662457</td>\n",
              "    </tr>\n",
              "    <tr>\n",
              "      <th>runtime</th>\n",
              "      <td>0.268226</td>\n",
              "      <td>0.224579</td>\n",
              "      <td>1.000000</td>\n",
              "      <td>0.395343</td>\n",
              "      <td>0.317399</td>\n",
              "    </tr>\n",
              "    <tr>\n",
              "      <th>score</th>\n",
              "      <td>0.042145</td>\n",
              "      <td>0.165693</td>\n",
              "      <td>0.395343</td>\n",
              "      <td>1.000000</td>\n",
              "      <td>0.393607</td>\n",
              "    </tr>\n",
              "    <tr>\n",
              "      <th>votes</th>\n",
              "      <td>0.503924</td>\n",
              "      <td>0.662457</td>\n",
              "      <td>0.317399</td>\n",
              "      <td>0.393607</td>\n",
              "      <td>1.000000</td>\n",
              "    </tr>\n",
              "  </tbody>\n",
              "</table>\n",
              "</div>"
            ],
            "text/plain": [
              "           budget     gross   runtime     score     votes\n",
              "budget   1.000000  0.712196  0.268226  0.042145  0.503924\n",
              "gross    0.712196  1.000000  0.224579  0.165693  0.662457\n",
              "runtime  0.268226  0.224579  1.000000  0.395343  0.317399\n",
              "score    0.042145  0.165693  0.395343  1.000000  0.393607\n",
              "votes    0.503924  0.662457  0.317399  0.393607  1.000000"
            ]
          },
          "metadata": {
            "tags": []
          },
          "execution_count": 143
        }
      ]
    },
    {
      "cell_type": "code",
      "metadata": {
        "colab": {
          "base_uri": "https://localhost:8080/",
          "height": 500
        },
        "id": "Tkm8lCVrC3SI",
        "outputId": "1feba9c5-287d-4ed3-8e28-5985742a2306"
      },
      "source": [
        "correlation_matrix = df.corr(method='pearson')\n",
        "\n",
        "sns.heatmap(data=correlation_matrix, annot=True)\n",
        "plt.title('Correlation matrix for Numeric features')\n",
        "plt.show()"
      ],
      "execution_count": 144,
      "outputs": [
        {
          "output_type": "display_data",
          "data": {
            "image/png": "[encoded data removed]",
            "text/plain": [
              "<Figure size 864x576 with 2 Axes>"
            ]
          },
          "metadata": {
            "tags": [],
            "needs_background": "light"
          }
        }
      ]
    },
    {
      "cell_type": "code",
      "metadata": {
        "colab": {
          "base_uri": "https://localhost:8080/",
          "height": 204
        },
        "id": "4qbdeXHSD3GI",
        "outputId": "645766cb-62a7-444c-99b2-ffc96f3bbefa"
      },
      "source": [
        "#  now let's also look at text features\n",
        "\n",
        "df_numerized = df.copy()\n",
        "\n",
        "for col_name in df_numerized.columns:\n",
        "  if(df_numerized[col_name].dtype == 'object'):\n",
        "    df_numerized[col_name] = df_numerized[col_name].astype('category')\n",
        "    df_numerized[col_name] = df_numerized[col_name].cat.codes\n",
        "\n",
        "\n",
        "df_numerized.head()"
      ],
      "execution_count": 145,
      "outputs": [
        {
          "output_type": "execute_result",
          "data": {
            "text/html": [
              "<div>\n",
              "<style scoped>\n",
              "    .dataframe tbody tr th:only-of-type {\n",
              "        vertical-align: middle;\n",
              "    }\n",
              "\n",
              "    .dataframe tbody tr th {\n",
              "        vertical-align: top;\n",
              "    }\n",
              "\n",
              "    .dataframe thead th {\n",
              "        text-align: right;\n",
              "    }\n",
              "</style>\n",
              "<table border=\"1\" class=\"dataframe\">\n",
              "  <thead>\n",
              "    <tr style=\"text-align: right;\">\n",
              "      <th></th>\n",
              "      <th>budget</th>\n",
              "      <th>company</th>\n",
              "      <th>country</th>\n",
              "      <th>director</th>\n",
              "      <th>genre</th>\n",
              "      <th>gross</th>\n",
              "      <th>name</th>\n",
              "      <th>rating</th>\n",
              "      <th>released</th>\n",
              "      <th>runtime</th>\n",
              "      <th>score</th>\n",
              "      <th>star</th>\n",
              "      <th>votes</th>\n",
              "      <th>writer</th>\n",
              "      <th>year_correct</th>\n",
              "    </tr>\n",
              "  </thead>\n",
              "  <tbody>\n",
              "    <tr>\n",
              "      <th>6380</th>\n",
              "      <td>245000000</td>\n",
              "      <td>1428</td>\n",
              "      <td>54</td>\n",
              "      <td>1037</td>\n",
              "      <td>0</td>\n",
              "      <td>936662225</td>\n",
              "      <td>4679</td>\n",
              "      <td>7</td>\n",
              "      <td>2290</td>\n",
              "      <td>136</td>\n",
              "      <td>8.1</td>\n",
              "      <td>475</td>\n",
              "      <td>687192</td>\n",
              "      <td>2356</td>\n",
              "      <td>29</td>\n",
              "    </tr>\n",
              "    <tr>\n",
              "      <th>5061</th>\n",
              "      <td>237000000</td>\n",
              "      <td>2062</td>\n",
              "      <td>53</td>\n",
              "      <td>1066</td>\n",
              "      <td>0</td>\n",
              "      <td>760507625</td>\n",
              "      <td>501</td>\n",
              "      <td>7</td>\n",
              "      <td>1800</td>\n",
              "      <td>162</td>\n",
              "      <td>7.8</td>\n",
              "      <td>2084</td>\n",
              "      <td>954412</td>\n",
              "      <td>1629</td>\n",
              "      <td>23</td>\n",
              "    </tr>\n",
              "    <tr>\n",
              "      <th>2420</th>\n",
              "      <td>200000000</td>\n",
              "      <td>2062</td>\n",
              "      <td>54</td>\n",
              "      <td>1066</td>\n",
              "      <td>6</td>\n",
              "      <td>658672302</td>\n",
              "      <td>6177</td>\n",
              "      <td>7</td>\n",
              "      <td>910</td>\n",
              "      <td>194</td>\n",
              "      <td>7.8</td>\n",
              "      <td>1444</td>\n",
              "      <td>862554</td>\n",
              "      <td>1629</td>\n",
              "      <td>11</td>\n",
              "    </tr>\n",
              "    <tr>\n",
              "      <th>6391</th>\n",
              "      <td>150000000</td>\n",
              "      <td>2085</td>\n",
              "      <td>54</td>\n",
              "      <td>466</td>\n",
              "      <td>0</td>\n",
              "      <td>652270625</td>\n",
              "      <td>2721</td>\n",
              "      <td>7</td>\n",
              "      <td>2247</td>\n",
              "      <td>124</td>\n",
              "      <td>7.0</td>\n",
              "      <td>404</td>\n",
              "      <td>469200</td>\n",
              "      <td>3310</td>\n",
              "      <td>29</td>\n",
              "    </tr>\n",
              "    <tr>\n",
              "      <th>5723</th>\n",
              "      <td>220000000</td>\n",
              "      <td>1491</td>\n",
              "      <td>54</td>\n",
              "      <td>1412</td>\n",
              "      <td>0</td>\n",
              "      <td>623357910</td>\n",
              "      <td>4995</td>\n",
              "      <td>7</td>\n",
              "      <td>1987</td>\n",
              "      <td>143</td>\n",
              "      <td>8.1</td>\n",
              "      <td>2001</td>\n",
              "      <td>1064633</td>\n",
              "      <td>2145</td>\n",
              "      <td>26</td>\n",
              "    </tr>\n",
              "  </tbody>\n",
              "</table>\n",
              "</div>"
            ],
            "text/plain": [
              "         budget  company  country  ...    votes  writer  year_correct\n",
              "6380  245000000     1428       54  ...   687192    2356            29\n",
              "5061  237000000     2062       53  ...   954412    1629            23\n",
              "2420  200000000     2062       54  ...   862554    1629            11\n",
              "6391  150000000     2085       54  ...   469200    3310            29\n",
              "5723  220000000     1491       54  ...  1064633    2145            26\n",
              "\n",
              "[5 rows x 15 columns]"
            ]
          },
          "metadata": {
            "tags": []
          },
          "execution_count": 145
        }
      ]
    },
    {
      "cell_type": "code",
      "metadata": {
        "colab": {
          "base_uri": "https://localhost:8080/",
          "height": 552
        },
        "id": "g8yOgK8fIR9u",
        "outputId": "6c4f54cd-840e-4044-9e3f-e0a23081cf3f"
      },
      "source": [
        "correlation_matrix = df_numerized.corr(method='pearson')\n",
        "\n",
        "sns.heatmap(data=correlation_matrix, annot=True)\n",
        "plt.title('Correlation matrix for Numeric features')\n",
        "plt.show()"
      ],
      "execution_count": 146,
      "outputs": [
        {
          "output_type": "display_data",
          "data": {
            "image/png": "[encoded data removed]",
            "text/plain": [
              "<Figure size 864x576 with 2 Axes>"
            ]
          },
          "metadata": {
            "tags": [],
            "needs_background": "light"
          }
        }
      ]
    },
    {
      "cell_type": "code",
      "metadata": {
        "colab": {
          "base_uri": "https://localhost:8080/",
          "height": 514
        },
        "id": "6DWjEPlgIfDG",
        "outputId": "82d821b4-4ea9-4e12-9ed8-bcdabbbadfe3"
      },
      "source": [
        "correlation_matrix"
      ],
      "execution_count": 147,
      "outputs": [
        {
          "output_type": "execute_result",
          "data": {
            "text/html": [
              "<div>\n",
              "<style scoped>\n",
              "    .dataframe tbody tr th:only-of-type {\n",
              "        vertical-align: middle;\n",
              "    }\n",
              "\n",
              "    .dataframe tbody tr th {\n",
              "        vertical-align: top;\n",
              "    }\n",
              "\n",
              "    .dataframe thead th {\n",
              "        text-align: right;\n",
              "    }\n",
              "</style>\n",
              "<table border=\"1\" class=\"dataframe\">\n",
              "  <thead>\n",
              "    <tr style=\"text-align: right;\">\n",
              "      <th></th>\n",
              "      <th>budget</th>\n",
              "      <th>company</th>\n",
              "      <th>country</th>\n",
              "      <th>director</th>\n",
              "      <th>genre</th>\n",
              "      <th>gross</th>\n",
              "      <th>name</th>\n",
              "      <th>rating</th>\n",
              "      <th>released</th>\n",
              "      <th>runtime</th>\n",
              "      <th>score</th>\n",
              "      <th>star</th>\n",
              "      <th>votes</th>\n",
              "      <th>writer</th>\n",
              "      <th>year_correct</th>\n",
              "    </tr>\n",
              "  </thead>\n",
              "  <tbody>\n",
              "    <tr>\n",
              "      <th>budget</th>\n",
              "      <td>1.000000</td>\n",
              "      <td>0.187205</td>\n",
              "      <td>0.137635</td>\n",
              "      <td>0.011602</td>\n",
              "      <td>-0.346794</td>\n",
              "      <td>0.712196</td>\n",
              "      <td>0.028712</td>\n",
              "      <td>-0.119660</td>\n",
              "      <td>0.276635</td>\n",
              "      <td>0.268226</td>\n",
              "      <td>0.042145</td>\n",
              "      <td>-0.015061</td>\n",
              "      <td>0.503924</td>\n",
              "      <td>-0.015611</td>\n",
              "      <td>0.274820</td>\n",
              "    </tr>\n",
              "    <tr>\n",
              "      <th>company</th>\n",
              "      <td>0.187205</td>\n",
              "      <td>1.000000</td>\n",
              "      <td>0.107950</td>\n",
              "      <td>0.004320</td>\n",
              "      <td>-0.068330</td>\n",
              "      <td>0.187220</td>\n",
              "      <td>0.018098</td>\n",
              "      <td>-0.062250</td>\n",
              "      <td>0.027898</td>\n",
              "      <td>0.033058</td>\n",
              "      <td>-0.010426</td>\n",
              "      <td>-0.003160</td>\n",
              "      <td>0.138662</td>\n",
              "      <td>-0.004032</td>\n",
              "      <td>0.028012</td>\n",
              "    </tr>\n",
              "    <tr>\n",
              "      <th>country</th>\n",
              "      <td>0.137635</td>\n",
              "      <td>0.107950</td>\n",
              "      <td>1.000000</td>\n",
              "      <td>0.003698</td>\n",
              "      <td>-0.042793</td>\n",
              "      <td>0.149988</td>\n",
              "      <td>0.025020</td>\n",
              "      <td>0.057979</td>\n",
              "      <td>-0.062609</td>\n",
              "      <td>-0.081796</td>\n",
              "      <td>-0.174414</td>\n",
              "      <td>-0.014566</td>\n",
              "      <td>0.078657</td>\n",
              "      <td>0.024981</td>\n",
              "      <td>-0.062707</td>\n",
              "    </tr>\n",
              "    <tr>\n",
              "      <th>director</th>\n",
              "      <td>0.011602</td>\n",
              "      <td>0.004320</td>\n",
              "      <td>0.003698</td>\n",
              "      <td>1.000000</td>\n",
              "      <td>-0.027668</td>\n",
              "      <td>-0.011429</td>\n",
              "      <td>0.001905</td>\n",
              "      <td>0.021926</td>\n",
              "      <td>0.001440</td>\n",
              "      <td>0.026779</td>\n",
              "      <td>0.017130</td>\n",
              "      <td>0.039813</td>\n",
              "      <td>0.000639</td>\n",
              "      <td>0.298997</td>\n",
              "      <td>0.001822</td>\n",
              "    </tr>\n",
              "    <tr>\n",
              "      <th>genre</th>\n",
              "      <td>-0.346794</td>\n",
              "      <td>-0.068330</td>\n",
              "      <td>-0.042793</td>\n",
              "      <td>-0.027668</td>\n",
              "      <td>1.000000</td>\n",
              "      <td>-0.242676</td>\n",
              "      <td>0.018062</td>\n",
              "      <td>0.100960</td>\n",
              "      <td>-0.039179</td>\n",
              "      <td>-0.041357</td>\n",
              "      <td>0.056234</td>\n",
              "      <td>0.008140</td>\n",
              "      <td>-0.150519</td>\n",
              "      <td>-0.000608</td>\n",
              "      <td>-0.039014</td>\n",
              "    </tr>\n",
              "    <tr>\n",
              "      <th>gross</th>\n",
              "      <td>0.712196</td>\n",
              "      <td>0.187220</td>\n",
              "      <td>0.149988</td>\n",
              "      <td>-0.011429</td>\n",
              "      <td>-0.242676</td>\n",
              "      <td>1.000000</td>\n",
              "      <td>0.022768</td>\n",
              "      <td>-0.135538</td>\n",
              "      <td>0.178564</td>\n",
              "      <td>0.224579</td>\n",
              "      <td>0.165693</td>\n",
              "      <td>0.008382</td>\n",
              "      <td>0.662457</td>\n",
              "      <td>-0.009455</td>\n",
              "      <td>0.176879</td>\n",
              "    </tr>\n",
              "    <tr>\n",
              "      <th>name</th>\n",
              "      <td>0.028712</td>\n",
              "      <td>0.018098</td>\n",
              "      <td>0.025020</td>\n",
              "      <td>0.001905</td>\n",
              "      <td>0.018062</td>\n",
              "      <td>0.022768</td>\n",
              "      <td>1.000000</td>\n",
              "      <td>0.001288</td>\n",
              "      <td>0.024120</td>\n",
              "      <td>0.013942</td>\n",
              "      <td>0.023342</td>\n",
              "      <td>-0.001910</td>\n",
              "      <td>0.023665</td>\n",
              "      <td>0.009821</td>\n",
              "      <td>0.023411</td>\n",
              "    </tr>\n",
              "    <tr>\n",
              "      <th>rating</th>\n",
              "      <td>-0.119660</td>\n",
              "      <td>-0.062250</td>\n",
              "      <td>0.057979</td>\n",
              "      <td>0.021926</td>\n",
              "      <td>0.100960</td>\n",
              "      <td>-0.135538</td>\n",
              "      <td>0.001288</td>\n",
              "      <td>1.000000</td>\n",
              "      <td>0.016696</td>\n",
              "      <td>0.079542</td>\n",
              "      <td>0.019271</td>\n",
              "      <td>0.007893</td>\n",
              "      <td>0.011678</td>\n",
              "      <td>0.010740</td>\n",
              "      <td>0.017438</td>\n",
              "    </tr>\n",
              "    <tr>\n",
              "      <th>released</th>\n",
              "      <td>0.276635</td>\n",
              "      <td>0.027898</td>\n",
              "      <td>-0.062609</td>\n",
              "      <td>0.001440</td>\n",
              "      <td>-0.039179</td>\n",
              "      <td>0.178564</td>\n",
              "      <td>0.024120</td>\n",
              "      <td>0.016696</td>\n",
              "      <td>1.000000</td>\n",
              "      <td>0.091102</td>\n",
              "      <td>0.119577</td>\n",
              "      <td>-0.025504</td>\n",
              "      <td>0.221736</td>\n",
              "      <td>-0.004635</td>\n",
              "      <td>0.999389</td>\n",
              "    </tr>\n",
              "    <tr>\n",
              "      <th>runtime</th>\n",
              "      <td>0.268226</td>\n",
              "      <td>0.033058</td>\n",
              "      <td>-0.081796</td>\n",
              "      <td>0.026779</td>\n",
              "      <td>-0.041357</td>\n",
              "      <td>0.224579</td>\n",
              "      <td>0.013942</td>\n",
              "      <td>0.079542</td>\n",
              "      <td>0.091102</td>\n",
              "      <td>1.000000</td>\n",
              "      <td>0.395343</td>\n",
              "      <td>0.016019</td>\n",
              "      <td>0.317399</td>\n",
              "      <td>0.000759</td>\n",
              "      <td>0.088342</td>\n",
              "    </tr>\n",
              "    <tr>\n",
              "      <th>score</th>\n",
              "      <td>0.042145</td>\n",
              "      <td>-0.010426</td>\n",
              "      <td>-0.174414</td>\n",
              "      <td>0.017130</td>\n",
              "      <td>0.056234</td>\n",
              "      <td>0.165693</td>\n",
              "      <td>0.023342</td>\n",
              "      <td>0.019271</td>\n",
              "      <td>0.119577</td>\n",
              "      <td>0.395343</td>\n",
              "      <td>1.000000</td>\n",
              "      <td>0.009482</td>\n",
              "      <td>0.393607</td>\n",
              "      <td>0.012223</td>\n",
              "      <td>0.117679</td>\n",
              "    </tr>\n",
              "    <tr>\n",
              "      <th>star</th>\n",
              "      <td>-0.015061</td>\n",
              "      <td>-0.003160</td>\n",
              "      <td>-0.014566</td>\n",
              "      <td>0.039813</td>\n",
              "      <td>0.008140</td>\n",
              "      <td>0.008382</td>\n",
              "      <td>-0.001910</td>\n",
              "      <td>0.007893</td>\n",
              "      <td>-0.025504</td>\n",
              "      <td>0.016019</td>\n",
              "      <td>0.009482</td>\n",
              "      <td>1.000000</td>\n",
              "      <td>-0.011919</td>\n",
              "      <td>0.035378</td>\n",
              "      <td>-0.026050</td>\n",
              "    </tr>\n",
              "    <tr>\n",
              "      <th>votes</th>\n",
              "      <td>0.503924</td>\n",
              "      <td>0.138662</td>\n",
              "      <td>0.078657</td>\n",
              "      <td>0.000639</td>\n",
              "      <td>-0.150519</td>\n",
              "      <td>0.662457</td>\n",
              "      <td>0.023665</td>\n",
              "      <td>0.011678</td>\n",
              "      <td>0.221736</td>\n",
              "      <td>0.317399</td>\n",
              "      <td>0.393607</td>\n",
              "      <td>-0.011919</td>\n",
              "      <td>1.000000</td>\n",
              "      <td>0.001154</td>\n",
              "      <td>0.220797</td>\n",
              "    </tr>\n",
              "    <tr>\n",
              "      <th>writer</th>\n",
              "      <td>-0.015611</td>\n",
              "      <td>-0.004032</td>\n",
              "      <td>0.024981</td>\n",
              "      <td>0.298997</td>\n",
              "      <td>-0.000608</td>\n",
              "      <td>-0.009455</td>\n",
              "      <td>0.009821</td>\n",
              "      <td>0.010740</td>\n",
              "      <td>-0.004635</td>\n",
              "      <td>0.000759</td>\n",
              "      <td>0.012223</td>\n",
              "      <td>0.035378</td>\n",
              "      <td>0.001154</td>\n",
              "      <td>1.000000</td>\n",
              "      <td>-0.004546</td>\n",
              "    </tr>\n",
              "    <tr>\n",
              "      <th>year_correct</th>\n",
              "      <td>0.274820</td>\n",
              "      <td>0.028012</td>\n",
              "      <td>-0.062707</td>\n",
              "      <td>0.001822</td>\n",
              "      <td>-0.039014</td>\n",
              "      <td>0.176879</td>\n",
              "      <td>0.023411</td>\n",
              "      <td>0.017438</td>\n",
              "      <td>0.999389</td>\n",
              "      <td>0.088342</td>\n",
              "      <td>0.117679</td>\n",
              "      <td>-0.026050</td>\n",
              "      <td>0.220797</td>\n",
              "      <td>-0.004546</td>\n",
              "      <td>1.000000</td>\n",
              "    </tr>\n",
              "  </tbody>\n",
              "</table>\n",
              "</div>"
            ],
            "text/plain": [
              "                budget   company   country  ...     votes    writer  year_correct\n",
              "budget        1.000000  0.187205  0.137635  ...  0.503924 -0.015611      0.274820\n",
              "company       0.187205  1.000000  0.107950  ...  0.138662 -0.004032      0.028012\n",
              "country       0.137635  0.107950  1.000000  ...  0.078657  0.024981     -0.062707\n",
              "director      0.011602  0.004320  0.003698  ...  0.000639  0.298997      0.001822\n",
              "genre        -0.346794 -0.068330 -0.042793  ... -0.150519 -0.000608     -0.039014\n",
              "gross         0.712196  0.187220  0.149988  ...  0.662457 -0.009455      0.176879\n",
              "name          0.028712  0.018098  0.025020  ...  0.023665  0.009821      0.023411\n",
              "rating       -0.119660 -0.062250  0.057979  ...  0.011678  0.010740      0.017438\n",
              "released      0.276635  0.027898 -0.062609  ...  0.221736 -0.004635      0.999389\n",
              "runtime       0.268226  0.033058 -0.081796  ...  0.317399  0.000759      0.088342\n",
              "score         0.042145 -0.010426 -0.174414  ...  0.393607  0.012223      0.117679\n",
              "star         -0.015061 -0.003160 -0.014566  ... -0.011919  0.035378     -0.026050\n",
              "votes         0.503924  0.138662  0.078657  ...  1.000000  0.001154      0.220797\n",
              "writer       -0.015611 -0.004032  0.024981  ...  0.001154  1.000000     -0.004546\n",
              "year_correct  0.274820  0.028012 -0.062707  ...  0.220797 -0.004546      1.000000\n",
              "\n",
              "[15 rows x 15 columns]"
            ]
          },
          "metadata": {
            "tags": []
          },
          "execution_count": 147
        }
      ]
    },
    {
      "cell_type": "code",
      "metadata": {
        "colab": {
          "base_uri": "https://localhost:8080/"
        },
        "id": "FYbNR48bJMO_",
        "outputId": "f0f725b5-848e-45ea-f83b-6c054e7b5b6b"
      },
      "source": [
        "# Unstacking \n",
        "\n",
        "corr_pairs = correlation_matrix.unstack()\n",
        "corr_pairs.head()"
      ],
      "execution_count": 148,
      "outputs": [
        {
          "output_type": "execute_result",
          "data": {
            "text/plain": [
              "budget  budget      1.000000\n",
              "        company     0.187205\n",
              "        country     0.137635\n",
              "        director    0.011602\n",
              "        genre      -0.346794\n",
              "dtype: float64"
            ]
          },
          "metadata": {
            "tags": []
          },
          "execution_count": 148
        }
      ]
    },
    {
      "cell_type": "code",
      "metadata": {
        "id": "GnOQOHSJJVk2"
      },
      "source": [
        "sort_pairs = corr_pairs.sort_values()"
      ],
      "execution_count": 149,
      "outputs": []
    },
    {
      "cell_type": "code",
      "metadata": {
        "colab": {
          "base_uri": "https://localhost:8080/"
        },
        "id": "JvC8DTM3J19q",
        "outputId": "a12925f7-bab4-416a-b0b9-6b1422946f41"
      },
      "source": [
        "sort_pairs.tail()"
      ],
      "execution_count": 150,
      "outputs": [
        {
          "output_type": "execute_result",
          "data": {
            "text/plain": [
              "director      director        1.0\n",
              "country       country         1.0\n",
              "company       company         1.0\n",
              "writer        writer          1.0\n",
              "year_correct  year_correct    1.0\n",
              "dtype: float64"
            ]
          },
          "metadata": {
            "tags": []
          },
          "execution_count": 150
        }
      ]
    },
    {
      "cell_type": "code",
      "metadata": {
        "colab": {
          "base_uri": "https://localhost:8080/"
        },
        "id": "_lSenpKYJ3ln",
        "outputId": "2b9e1b4f-484a-46dd-cdfa-8431139ab749"
      },
      "source": [
        "high_corr = sort_pairs[(sort_pairs) > 0.5]\n",
        "high_corr"
      ],
      "execution_count": 151,
      "outputs": [
        {
          "output_type": "execute_result",
          "data": {
            "text/plain": [
              "votes         budget          0.503924\n",
              "budget        votes           0.503924\n",
              "gross         votes           0.662457\n",
              "votes         gross           0.662457\n",
              "gross         budget          0.712196\n",
              "budget        gross           0.712196\n",
              "released      year_correct    0.999389\n",
              "year_correct  released        0.999389\n",
              "budget        budget          1.000000\n",
              "rating        rating          1.000000\n",
              "votes         votes           1.000000\n",
              "star          star            1.000000\n",
              "score         score           1.000000\n",
              "runtime       runtime         1.000000\n",
              "released      released        1.000000\n",
              "name          name            1.000000\n",
              "gross         gross           1.000000\n",
              "genre         genre           1.000000\n",
              "director      director        1.000000\n",
              "country       country         1.000000\n",
              "company       company         1.000000\n",
              "writer        writer          1.000000\n",
              "year_correct  year_correct    1.000000\n",
              "dtype: float64"
            ]
          },
          "metadata": {
            "tags": []
          },
          "execution_count": 151
        }
      ]
    },
    {
      "cell_type": "markdown",
      "metadata": {
        "id": "1C9vnCeMRIvO"
      },
      "source": [
        "From above list, we can see Gross is correlated to budget and votes."
      ]
    },
    {
      "cell_type": "markdown",
      "metadata": {
        "id": "_nebOg_zSDGe"
      },
      "source": [
        "# Conclusion"
      ]
    },
    {
      "cell_type": "markdown",
      "metadata": {
        "id": "fBXVNnqdSI70"
      },
      "source": [
        "In this analysis we wanted to understand on which factor does gross depends for a movie. In our hypothesis, we assumed Company would play and important factor however Correlation matrix showed otherwise.\n",
        "\n",
        "Gross is correlated to Budget of movie and votes it received. For our analysis we used Pearson correlation factor."
      ]
    }
  ]
}